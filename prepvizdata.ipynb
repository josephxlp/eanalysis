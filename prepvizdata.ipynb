{
 "cells": [
  {
   "cell_type": "markdown",
   "metadata": {},
   "source": [
    "Goal: clip a sample data into area of interest to dev paper viz \n",
    "- all the dataset of interest: esawc, ldem,pdem,edem,cdem,tdem, ml-datasets,"
   ]
  },
  {
   "cell_type": "code",
   "execution_count": 1,
   "metadata": {},
   "outputs": [],
   "source": [
    "import os \n",
    "import glob\n",
    "import geopandas as gpd \n",
    "from datautils import cutline_raster\n",
    "from upaths import CLIP_DPATH,lines_fpath,polys_fpath,WDIR,Eanalysis_dpath"
   ]
  },
  {
   "cell_type": "code",
   "execution_count": 2,
   "metadata": {},
   "outputs": [],
   "source": [
    "def filter_files_by_endingwith(files, var_ending):\n",
    "    filtered_files = [f for f in files if any(f.endswith(ending) for ending in var_ending)]\n",
    "    print(f\"Filtered files count: {len(filtered_files)}/{len(files)}\")\n",
    "    return filtered_files"
   ]
  },
  {
   "cell_type": "code",
   "execution_count": 3,
   "metadata": {},
   "outputs": [
    {
     "data": {
      "text/plain": [
       "['edem_EGM.tif',\n",
       " 'cdem_DEM.tif',\n",
       " 'multi_DTM_LiDAR.tif',\n",
       " 'edem_W84.tif',\n",
       " 'tdem_DEM__Fw.tif',\n",
       " 'tdem_DEM.tif',\n",
       " 'multi_ESAWC.tif']"
      ]
     },
     "execution_count": 3,
     "metadata": {},
     "output_type": "execute_result"
    }
   ],
   "source": [
    "profile_exts = ['edem_EGM.tif','cdem_DEM.tif','multi_DTM_LiDAR.tif',\n",
    "                'edem_W84.tif','tdem_DEM__Fw.tif', 'tdem_DEM.tif']\n",
    "\n",
    "context_exts = ['multi_ESAWC.tif'] # use \n",
    "\n",
    "tilenames = ['N13E103']#,'N10E105']\n",
    "all_exts = profile_exts + context_exts\n",
    "all_exts"
   ]
  },
  {
   "cell_type": "code",
   "execution_count": null,
   "metadata": {},
   "outputs": [],
   "source": [
    "lines = gpd.read_file(lines_fpath)\n",
    "polys = gpd.read_file(polys_fpath)\n",
    "for tname in tilenames:\n",
    "    line_fpath = f\"{Eanalysis_dpath}/{tname}_LINES.gpkg\"\n",
    "    if os.path.isfile(line_fpath):\n",
    "        TILE_WDIR = f'{WDIR}/{tname}/*.tif'\n",
    "        files = glob.glob(TILE_WDIR); print(len(files))\n",
    "        profile_files = filter_files_by_endingwith(files, all_exts)\n",
    "        profile_names = [os.path.basename(f).replace('.tif', '') for f in profile_files]\n",
    "        print(tname)\n",
    "    for rpath in profile_files:\n",
    "        print(rpath)\n",
    "        polys_names = polys.name.tolist()\n",
    "        for polyname in polys_names:\n",
    "            polys_subset = polys[polys.name == polyname]\n",
    "            tile_dpath = os.path.join(CLIP_DPATH, tname,polyname)\n",
    "            os.makedirs(tile_dpath, exist_ok=True)\n",
    "            #cutline_raster_by_vector(tile_dpath, rpath,polys_subset,polyname)\n",
    "            cutline_raster(tile_dpath, rpath,polys_subset,polyname)\n",
    "            # fix the clipper to keep data type from the input raster "
   ]
  },
  {
   "cell_type": "code",
   "execution_count": null,
   "metadata": {},
   "outputs": [],
   "source": []
  },
  {
   "cell_type": "code",
   "execution_count": null,
   "metadata": {},
   "outputs": [],
   "source": [
    "\n",
    "\n"
   ]
  },
  {
   "cell_type": "code",
   "execution_count": null,
   "metadata": {},
   "outputs": [],
   "source": []
  },
  {
   "cell_type": "code",
   "execution_count": null,
   "metadata": {},
   "outputs": [],
   "source": []
  }
 ],
 "metadata": {
  "kernelspec": {
   "display_name": "automl",
   "language": "python",
   "name": "python3"
  },
  "language_info": {
   "codemirror_mode": {
    "name": "ipython",
    "version": 3
   },
   "file_extension": ".py",
   "mimetype": "text/x-python",
   "name": "python",
   "nbconvert_exporter": "python",
   "pygments_lexer": "ipython3",
   "version": "3.11.0"
  }
 },
 "nbformat": 4,
 "nbformat_minor": 2
}
